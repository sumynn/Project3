{
 "cells": [
  {
   "cell_type": "markdown",
   "metadata": {},
   "source": [
    "## 확진자 수"
   ]
  },
  {
   "cell_type": "code",
   "execution_count": null,
   "metadata": {},
   "outputs": [],
   "source": [
    "import requests\n",
    "import pandas as pd\n",
    "import json\n",
    "\n",
    "# country 목록\n",
    "with open(\"countryURL.json\", \"r\") as f:\n",
    "    urls = json.load(f)\n",
    "countries = list(urls.keys())\n",
    "\n",
    "url = 'https://api.covid19api.com/summary'\n",
    "response = requests.get(url)\n",
    "data = response.json().get('Countries')\n",
    "\n",
    "df = pd.DataFrame()\n",
    "\n",
    "for d in data:\n",
    "    if d['Country'] in countries:\n",
    "        df = df.append(d, ignore_index=True)\n",
    "\n",
    "df = df[['Country', 'TotalConfirmed', 'TotalDeaths', 'Date']]\n",
    "df.to_csv(\"data/covid/covid_status.csv\", index=False)"
   ]
  }
 ],
 "metadata": {
  "interpreter": {
   "hash": "b3ba2566441a7c06988d0923437866b63cedc61552a5af99d1f4fb67d367b25f"
  },
  "kernelspec": {
   "display_name": "Python 3.8.8 64-bit ('base': conda)",
   "language": "python",
   "name": "python3"
  },
  "language_info": {
   "name": "python",
   "version": "3.8.8"
  },
  "orig_nbformat": 4
 },
 "nbformat": 4,
 "nbformat_minor": 2
}
